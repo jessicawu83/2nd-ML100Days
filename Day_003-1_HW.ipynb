{
 "cells": [
  {
   "cell_type": "code",
   "execution_count": 5,
   "metadata": {},
   "outputs": [],
   "source": [
    "import pandas as pd\n",
    "import numpy as np"
   ]
  },
  {
   "cell_type": "code",
   "execution_count": 6,
   "metadata": {},
   "outputs": [
    {
     "name": "stdout",
     "output_type": "stream",
     "text": [
      "  國家  人口\n",
      "0  A  10\n",
      "1  B  20\n"
     ]
    }
   ],
   "source": [
    "#固定值\n",
    "data = {'國家':['A','B'] ,\n",
    "        '人口': [10,20]}\n",
    "data_1 = pd.DataFrame(data)\n",
    "print(data_1)"
   ]
  },
  {
   "cell_type": "code",
   "execution_count": 7,
   "metadata": {},
   "outputs": [
    {
     "name": "stdout",
     "output_type": "stream",
     "text": [
      "  國家      人口\n",
      "0  A  469940\n",
      "1  B  457715\n",
      "2  C   22538\n",
      "3  D  282899\n"
     ]
    }
   ],
   "source": [
    "country = ['A', 'B', 'C','D']\n",
    "\n",
    "population = np.random.randint(10000,500000,len(country))\n",
    "\n",
    "data = {'國家':country , '人口':population}\n",
    "data_1 = pd.DataFrame(data)\n",
    "\n",
    "print(data_1)\n"
   ]
  }
 ],
 "metadata": {
  "kernelspec": {
   "display_name": "Python 3",
   "language": "python",
   "name": "python3"
  },
  "language_info": {
   "codemirror_mode": {
    "name": "ipython",
    "version": 3
   },
   "file_extension": ".py",
   "mimetype": "text/x-python",
   "name": "python",
   "nbconvert_exporter": "python",
   "pygments_lexer": "ipython3",
   "version": "3.7.3"
  }
 },
 "nbformat": 4,
 "nbformat_minor": 2
}
